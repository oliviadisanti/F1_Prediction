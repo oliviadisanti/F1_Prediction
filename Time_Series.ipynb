{
 "cells": [
  {
   "cell_type": "code",
   "execution_count": 327,
   "id": "23e8ea5c-2337-42f1-9db6-9d414b6b67ed",
   "metadata": {},
   "outputs": [],
   "source": [
    "import pandas as pd\n",
    "from statsmodels.tsa.arima.model import ARIMA\n",
    "from sklearn.metrics import mean_absolute_error\n",
    "import matplotlib.pyplot as plt\n",
    "from sklearn.linear_model import LinearRegression\n",
    "from sklearn.model_selection import train_test_split\n",
    "import warnings\n",
    "warnings.filterwarnings(\"ignore\")"
   ]
  },
  {
   "cell_type": "code",
   "execution_count": 328,
   "id": "9468a406-ca8d-4132-88aa-fae1797a6dc2",
   "metadata": {},
   "outputs": [],
   "source": [
    "# Load data\n",
    "circuits = pd.read_csv('circuits.csv')\n",
    "races = pd.read_csv('races.csv')\n",
    "qualifying = pd.read_csv('qualifying.csv')\n",
    "results = pd.read_csv('results.csv')\n",
    "drivers = pd.read_csv('drivers.csv')\n",
    "constructors = pd.read_csv('constructors.csv')"
   ]
  },
  {
   "cell_type": "code",
   "execution_count": 329,
   "id": "4606c66b-edce-4abe-acc7-eb99f0808b18",
   "metadata": {},
   "outputs": [],
   "source": [
    "# Merge dataframes\n",
    "df1 = pd.merge(races, results, how='inner', on='raceId')\n",
    "df2 = pd.merge(df1, qualifying, how='inner', on=['raceId', 'driverId', 'constructorId'])\n",
    "df3 = pd.merge(df2, drivers, how='inner', on='driverId')\n",
    "df4 = pd.merge(df3, constructors, how='inner', on='constructorId')\n",
    "df5 = pd.merge(df4, circuits, how='inner', on='circuitId')"
   ]
  },
  {
   "cell_type": "code",
   "execution_count": 330,
   "id": "0fb76809-17ee-4287-ba3d-c4377f8d6949",
   "metadata": {},
   "outputs": [],
   "source": [
    "# Drop NA values and convert date columns\n",
    "df5.dropna(inplace=True)\n",
    "df5['date'] = pd.to_datetime(df5['date'])\n",
    "df5['dob'] = pd.to_datetime(df5['dob'])\n",
    "df5['age_at_race'] = df5['date'].dt.year - df5['dob'].dt.year\n",
    "df5 = pd.get_dummies(df5, columns=['nationality_x', 'nationality_y'], drop_first=True)"
   ]
  },
  {
   "cell_type": "code",
   "execution_count": 331,
   "id": "35cd8506-89d2-4724-9cbd-78264c7533ae",
   "metadata": {},
   "outputs": [],
   "source": [
    "# Convert 'milliseconds' column to numeric type\n",
    "df5['milliseconds'] = pd.to_numeric(df5['milliseconds'], errors='coerce')\n",
    "\n",
    "# Calculate race duration in seconds\n",
    "df5['race_duration_sec'] = df5['milliseconds'] / 1000\n"
   ]
  },
  {
   "cell_type": "code",
   "execution_count": 332,
   "id": "dc4a56c8-3e76-42da-8f12-34db3bf3f516",
   "metadata": {},
   "outputs": [],
   "source": [
    "# Group by raceId and driverId to calculate driver and constructor points\n",
    "driver_points = df5.groupby(['raceId', 'driverId'])['points'].sum().reset_index()\n",
    "driver_points.rename(columns={'points': 'driver_points'}, inplace=True)\n",
    "constructor_points = df5.groupby(['raceId', 'constructorId'])['points'].sum().reset_index()\n",
    "constructor_points.rename(columns={'points': 'constructor_points'}, inplace=True)\n",
    "df5 = pd.merge(df5, driver_points, on=['raceId', 'driverId'], how='left')\n",
    "df5 = pd.merge(df5, constructor_points, on=['raceId', 'constructorId'], how='left')\n"
   ]
  },
  {
   "cell_type": "code",
   "execution_count": 333,
   "id": "13b8a996-f426-435a-b5a5-9213e5f7b4fe",
   "metadata": {},
   "outputs": [],
   "source": [
    "# Drop unnecessary columns\n",
    "drop_columns = ['url_x', 'url_y']\n",
    "\n",
    "df5.drop(columns=drop_columns, inplace=True)"
   ]
  },
  {
   "cell_type": "code",
   "execution_count": 334,
   "id": "5e9fb1bc-039f-401b-bfae-f644aba33ce8",
   "metadata": {},
   "outputs": [],
   "source": [
    "# Convert position_x column to numeric and drop rows with NaN values\n",
    "df5['position_x'] = pd.to_numeric(df5['position_x'], errors='coerce')\n",
    "df5.dropna(subset=['position_x'], inplace=True)"
   ]
  },
  {
   "cell_type": "code",
   "execution_count": 335,
   "id": "2f3c7efd-eb78-4c8a-b6e1-e26972d084e1",
   "metadata": {},
   "outputs": [],
   "source": [
    "# Define target variable\n",
    "target_variable = 'position_x'"
   ]
  },
  {
   "cell_type": "code",
   "execution_count": 336,
   "id": "dd87c329-103f-4f0e-a12a-2ac67fdf41ff",
   "metadata": {},
   "outputs": [],
   "source": [
    "# Fit ARIMA model\n",
    "model = ARIMA(df5[target_variable], order=(5, 1, 0))\n",
    "model_fit = model.fit()"
   ]
  },
  {
   "cell_type": "code",
   "execution_count": 337,
   "id": "81583df9-7727-42fc-b178-9a0bf4386299",
   "metadata": {},
   "outputs": [
    {
     "name": "stdout",
     "output_type": "stream",
     "text": [
      "ARIMA Model Summary:\n",
      "                               SARIMAX Results                                \n",
      "==============================================================================\n",
      "Dep. Variable:             position_x   No. Observations:                 6040\n",
      "Model:                 ARIMA(5, 1, 0)   Log Likelihood              -17713.681\n",
      "Date:                Mon, 01 Apr 2024   AIC                          35439.362\n",
      "Time:                        19:31:20   BIC                          35479.598\n",
      "Sample:                             0   HQIC                         35453.330\n",
      "                               - 6040                                         \n",
      "Covariance Type:                  opg                                         \n",
      "==============================================================================\n",
      "                 coef    std err          z      P>|z|      [0.025      0.975]\n",
      "------------------------------------------------------------------------------\n",
      "ar.L1         -0.5820      0.012    -46.727      0.000      -0.606      -0.558\n",
      "ar.L2         -0.3944      0.015    -27.000      0.000      -0.423      -0.366\n",
      "ar.L3         -0.2427      0.015    -15.999      0.000      -0.272      -0.213\n",
      "ar.L4         -0.1721      0.014    -12.017      0.000      -0.200      -0.144\n",
      "ar.L5         -0.0871      0.013     -6.854      0.000      -0.112      -0.062\n",
      "sigma2        20.6652      0.364     56.838      0.000      19.953      21.378\n",
      "===================================================================================\n",
      "Ljung-Box (L1) (Q):                   0.13   Jarque-Bera (JB):                41.44\n",
      "Prob(Q):                              0.72   Prob(JB):                         0.00\n",
      "Heteroskedasticity (H):               1.01   Skew:                             0.17\n",
      "Prob(H) (two-sided):                  0.90   Kurtosis:                         3.21\n",
      "===================================================================================\n",
      "\n",
      "Warnings:\n",
      "[1] Covariance matrix calculated using the outer product of gradients (complex-step).\n"
     ]
    }
   ],
   "source": [
    "# Print ARIMA model summary\n",
    "print(\"ARIMA Model Summary:\")\n",
    "print(model_fit.summary())"
   ]
  },
  {
   "cell_type": "code",
   "execution_count": 338,
   "id": "2817974b-f269-4b75-a31d-2690d572eccc",
   "metadata": {},
   "outputs": [
    {
     "data": {
      "image/png": "[encoded data removed]",
      "text/plain": [
       "<Figure size 432x288 with 1 Axes>"
      ]
     },
     "metadata": {
      "needs_background": "light"
     },
     "output_type": "display_data"
    }
   ],
   "source": [
    "# Plot ARIMA model residuals\n",
    "residuals = pd.DataFrame(model_fit.resid)\n",
    "residuals.plot()\n",
    "plt.title('ARIMA Model Residuals')\n",
    "plt.show()"
   ]
  },
  {
   "cell_type": "code",
   "execution_count": 339,
   "id": "0601eb63-4001-418b-b51e-ebe8ed29952f",
   "metadata": {},
   "outputs": [
    {
     "data": {
      "image/png": "[encoded data removed]",
      "text/plain": [
       "<Figure size 432x288 with 1 Axes>"
      ]
     },
     "metadata": {
      "needs_background": "light"
     },
     "output_type": "display_data"
    }
   ],
   "source": [
    "# Plot ARIMA model residuals with adjusted x-axis\n",
    "plt.plot(df5.index, model_fit.resid)\n",
    "plt.xlabel('Index')\n",
    "plt.ylabel('Residuals')\n",
    "plt.title('ARIMA Model Residuals')\n",
    "plt.show()"
   ]
  },
  {
   "cell_type": "code",
   "execution_count": 340,
   "id": "85254cda-4c6b-4653-8ce9-903503a348d9",
   "metadata": {},
   "outputs": [
    {
     "name": "stdout",
     "output_type": "stream",
     "text": [
      "ARIMA Model Mean Absolute Error (MAE): 3.590812668137458\n"
     ]
    }
   ],
   "source": [
    "# Calculate Mean Absolute Error (MAE) for ARIMA model\n",
    "mae_arima = mean_absolute_error(df5[target_variable], model_fit.fittedvalues)\n",
    "print(\"ARIMA Model Mean Absolute Error (MAE):\", mae_arima)\n"
   ]
  },
  {
   "cell_type": "code",
   "execution_count": 341,
   "id": "779e17ab-6b7e-46ef-b7f1-ee095c218dc2",
   "metadata": {},
   "outputs": [],
   "source": [
    "# Drop non-numeric columns for regression model\n",
    "X = df5.drop(columns=[target_variable, 'raceId', 'driverId', 'constructorId', 'circuitId', 'resultId'])\n",
    "y = df5[target_variable]\n",
    "# Drop rows with missing values\n",
    "X.dropna(inplace=True)\n",
    "y = y[X.index]  # Align y with X after dropping rows\n"
   ]
  },
  {
   "cell_type": "code",
   "execution_count": 342,
   "id": "2bc2543c-50ec-4967-85bd-0cf583263086",
   "metadata": {},
   "outputs": [],
   "source": [
    "# Split the data for regression model\n",
    "X_train, X_test, y_train, y_test = train_test_split(X, y, test_size=0.2, random_state=42)\n"
   ]
  },
  {
   "cell_type": "code",
   "execution_count": 343,
   "id": "a7589613-6a70-46b8-b045-d98961cef862",
   "metadata": {},
   "outputs": [],
   "source": [
    "# Drop non-numeric columns from X_train and X_test\n",
    "non_numeric_cols = X.select_dtypes(exclude=['int', 'float']).columns\n",
    "X_train = X_train.drop(columns=non_numeric_cols)\n",
    "X_test = X_test.drop(columns=non_numeric_cols)\n"
   ]
  },
  {
   "cell_type": "code",
   "execution_count": 344,
   "id": "1df779d4-1e03-4c56-bf04-79b245b12837",
   "metadata": {},
   "outputs": [
    {
     "data": {
      "text/plain": [
       "LinearRegression()"
      ]
     },
     "execution_count": 344,
     "metadata": {},
     "output_type": "execute_result"
    }
   ],
   "source": [
    "# Train the regression model\n",
    "regression_model = LinearRegression()\n",
    "regression_model.fit(X_train, y_train)\n"
   ]
  },
  {
   "cell_type": "code",
   "execution_count": 345,
   "id": "30095882-2643-41c7-9ce1-8a2e8b46334c",
   "metadata": {},
   "outputs": [],
   "source": [
    "# Make predictions using the regression model\n",
    "regression_predictions = regression_model.predict(X_test)\n"
   ]
  },
  {
   "cell_type": "code",
   "execution_count": 346,
   "id": "22281018-df17-49c9-a0c3-2ed601d6b2d3",
   "metadata": {},
   "outputs": [
    {
     "name": "stdout",
     "output_type": "stream",
     "text": [
      "Regression Model Mean Absolute Error (MAE): 0.0031164186199939235\n"
     ]
    }
   ],
   "source": [
    "# Evaluate the regression model using MAE\n",
    "regression_mae = mean_absolute_error(y_test, regression_predictions)\n",
    "print(\"Regression Model Mean Absolute Error (MAE):\", regression_mae)"
   ]
  },
  {
   "cell_type": "code",
   "execution_count": null,
   "id": "b7d6614b-693b-4593-9975-38d4865aa346",
   "metadata": {},
   "outputs": [],
   "source": []
  }
 ],
 "metadata": {
  "kernelspec": {
   "display_name": "Python 3",
   "language": "python",
   "name": "python3"
  },
  "language_info": {
   "codemirror_mode": {
    "name": "ipython",
    "version": 3
   },
   "file_extension": ".py",
   "mimetype": "text/x-python",
   "name": "python",
   "nbconvert_exporter": "python",
   "pygments_lexer": "ipython3",
   "version": "3.8.8"
  }
 },
 "nbformat": 4,
 "nbformat_minor": 5
}
