{
 "cells": [
  {
   "cell_type": "code",
   "execution_count": 24,
   "id": "325282ce-e0ad-4f6b-bc79-a0ee8b433167",
   "metadata": {},
   "outputs": [],
   "source": [
    "import pandas as pd\n",
    "from statsmodels.tsa.arima.model import ARIMA\n",
    "from sklearn.metrics import mean_absolute_error\n",
    "from sklearn.linear_model import LinearRegression\n",
    "from sklearn.model_selection import train_test_split\n",
    "import matplotlib.pyplot as plt\n",
    "import numpy as np\n",
    "import warnings\n",
    "warnings.filterwarnings(\"ignore\")"
   ]
  },
  {
   "cell_type": "code",
   "execution_count": 25,
   "id": "fcea7f91-3a3b-41ad-ac5f-13860802672d",
   "metadata": {},
   "outputs": [],
   "source": [
    "# Load data\n",
    "circuits = pd.read_csv('circuits.csv')\n",
    "races = pd.read_csv('races.csv')\n",
    "qualifying = pd.read_csv('qualifying.csv')\n",
    "results = pd.read_csv('results.csv')\n",
    "drivers = pd.read_csv('drivers.csv')\n",
    "constructors = pd.read_csv('constructors.csv')\n"
   ]
  },
  {
   "cell_type": "code",
   "execution_count": 26,
   "id": "988ee2a1-c3f6-4583-a069-252f6d99aaae",
   "metadata": {},
   "outputs": [],
   "source": [
    "# Merge dataframes\n",
    "df1 = pd.merge(races, results, how='inner', on='raceId')\n",
    "df2 = pd.merge(df1, qualifying, how='inner', on=['raceId', 'driverId', 'constructorId'])\n",
    "df3 = pd.merge(df2, drivers, how='inner', on='driverId')\n",
    "df4 = pd.merge(df3, constructors, how='inner', on='constructorId')\n",
    "df5 = pd.merge(df4, circuits, how='inner', on='circuitId')\n"
   ]
  },
  {
   "cell_type": "code",
   "execution_count": 27,
   "id": "a03bd47f-ddc2-46d1-be21-96b1f9c3399c",
   "metadata": {},
   "outputs": [],
   "source": [
    "# Drop NA values and convert date columns\n",
    "df5.dropna(inplace=True)\n",
    "df5['date'] = pd.to_datetime(df5['date'])\n",
    "df5['dob'] = pd.to_datetime(df5['dob'])\n",
    "df5['age_at_race'] = df5['date'].dt.year - df5['dob'].dt.year\n",
    "df5 = pd.get_dummies(df5, columns=['nationality_x', 'nationality_y'], drop_first=True)"
   ]
  },
  {
   "cell_type": "code",
   "execution_count": 28,
   "id": "200a2fdb-17fd-45fe-9d01-57800f0b86bb",
   "metadata": {},
   "outputs": [],
   "source": [
    "# Convert 'milliseconds' column to numeric type\n",
    "df5['milliseconds'] = pd.to_numeric(df5['milliseconds'], errors='coerce')\n",
    "\n",
    "# Calculate race duration in seconds\n",
    "df5['race_duration_sec'] = df5['milliseconds'] / 1000"
   ]
  },
  {
   "cell_type": "code",
   "execution_count": 29,
   "id": "1107dc21-7e5e-4150-b5d5-50d50c02b4f7",
   "metadata": {},
   "outputs": [],
   "source": [
    "# Group by raceId and driverId to calculate driver and constructor points\n",
    "driver_points = df5.groupby(['raceId', 'driverId'])['points'].sum().reset_index()\n",
    "driver_points.rename(columns={'points': 'driver_points'}, inplace=True)\n",
    "constructor_points = df5.groupby(['raceId', 'constructorId'])['points'].sum().reset_index()\n",
    "constructor_points.rename(columns={'points': 'constructor_points'}, inplace=True)\n",
    "df5 = pd.merge(df5, driver_points, on=['raceId', 'driverId'], how='left')\n",
    "df5 = pd.merge(df5, constructor_points, on=['raceId', 'constructorId'], how='left')"
   ]
  },
  {
   "cell_type": "code",
   "execution_count": 30,
   "id": "e20109b9-3afe-4743-a983-38dbc71f1aa9",
   "metadata": {},
   "outputs": [],
   "source": [
    "# Add ratio of driver points to constructor points as a new feature\n",
    "df5['points_ratio'] = df5['driver_points'] / df5['constructor_points']\n",
    "\n",
    "# Drop unnecessary columns\n",
    "drop_columns = ['url_x', 'url_y']\n",
    "df5.drop(columns=drop_columns, inplace=True)"
   ]
  },
  {
   "cell_type": "code",
   "execution_count": 31,
   "id": "3b5f9d42-d781-4f54-a39d-4ce3bfeeb362",
   "metadata": {},
   "outputs": [],
   "source": [
    "# Define target variable\n",
    "target_variable = 'position_x'\n",
    "\n",
    "# Convert 'position_x' column to numeric type\n",
    "df5['position_x'] = pd.to_numeric(df5['position_x'], errors='coerce')\n",
    "\n",
    "\n",
    "# Fit ARIMA model\n",
    "model = ARIMA(df5[target_variable], order=(5, 1, 0))\n",
    "model_fit = model.fit()"
   ]
  },
  {
   "cell_type": "code",
   "execution_count": 32,
   "id": "1e28717e-46af-4564-9b8f-1d4be90756e9",
   "metadata": {},
   "outputs": [
    {
     "name": "stdout",
     "output_type": "stream",
     "text": [
      "ARIMA Model Summary:\n",
      "                               SARIMAX Results                                \n",
      "==============================================================================\n",
      "Dep. Variable:             position_x   No. Observations:                 8170\n",
      "Model:                 ARIMA(5, 1, 0)   Log Likelihood              -17724.474\n",
      "Date:                Tue, 09 Apr 2024   AIC                          35460.948\n",
      "Time:                        09:34:10   BIC                          35502.997\n",
      "Sample:                             0   HQIC                         35475.326\n",
      "                               - 8170                                         \n",
      "Covariance Type:                  opg                                         \n",
      "==============================================================================\n",
      "                 coef    std err          z      P>|z|      [0.025      0.975]\n",
      "------------------------------------------------------------------------------\n",
      "ar.L1         -0.6036      0.013    -45.735      0.000      -0.629      -0.578\n",
      "ar.L2         -0.4407      0.015    -28.634      0.000      -0.471      -0.411\n",
      "ar.L3         -0.2887      0.016    -17.745      0.000      -0.321      -0.257\n",
      "ar.L4         -0.1921      0.015    -12.562      0.000      -0.222      -0.162\n",
      "ar.L5         -0.1131      0.014     -8.034      0.000      -0.141      -0.086\n",
      "sigma2        19.4411      0.334     58.246      0.000      18.787      20.095\n",
      "===================================================================================\n",
      "Ljung-Box (L1) (Q):                   0.06   Jarque-Bera (JB):               753.22\n",
      "Prob(Q):                              0.81   Prob(JB):                         0.00\n",
      "Heteroskedasticity (H):               0.99   Skew:                             0.21\n",
      "Prob(H) (two-sided):                  0.75   Kurtosis:                         4.43\n",
      "===================================================================================\n",
      "\n",
      "Warnings:\n",
      "[1] Covariance matrix calculated using the outer product of gradients (complex-step).\n"
     ]
    }
   ],
   "source": [
    "# Print ARIMA model summary\n",
    "print(\"ARIMA Model Summary:\")\n",
    "print(model_fit.summary())"
   ]
  },
  {
   "cell_type": "code",
   "execution_count": 33,
   "id": "37e344f9-a906-4463-be56-78fab8c70807",
   "metadata": {},
   "outputs": [
    {
     "data": {
      "image/png": "[encoded data removed]",
      "text/plain": [
       "<Figure size 432x288 with 1 Axes>"
      ]
     },
     "metadata": {
      "needs_background": "light"
     },
     "output_type": "display_data"
    }
   ],
   "source": [
    "# Plot ARIMA model residuals\n",
    "residuals = pd.DataFrame(model_fit.resid)\n",
    "residuals.plot()\n",
    "plt.title('ARIMA Model Residuals')\n",
    "plt.show()"
   ]
  },
  {
   "cell_type": "code",
   "execution_count": 36,
   "id": "fd9658de-0873-4fb4-8526-7743dcb569b3",
   "metadata": {},
   "outputs": [
    {
     "name": "stdout",
     "output_type": "stream",
     "text": [
      "ARIMA Model Mean Absolute Error (MAE): 3.590293487911667\n"
     ]
    }
   ],
   "source": [
    "# Drop rows with missing values in both y_true and y_pred\n",
    "valid_indices = ~np.isnan(y_true) & ~np.isnan(y_pred)\n",
    "y_true_valid = y_true[valid_indices]\n",
    "y_pred_valid = y_pred[valid_indices]\n",
    "\n",
    "# Calculate Mean Absolute Error (MAE) for ARIMA model\n",
    "mae_arima = mean_absolute_error(y_true_valid, y_pred_valid)\n",
    "print(\"ARIMA Model Mean Absolute Error (MAE):\", mae_arima)\n"
   ]
  },
  {
   "cell_type": "code",
   "execution_count": 37,
   "id": "db099949-5459-4479-81f4-b9664d8c6a2c",
   "metadata": {},
   "outputs": [],
   "source": [
    "# Drop non-numeric columns for regression model\n",
    "X = df5.drop(columns=[target_variable, 'raceId', 'driverId', 'constructorId', 'circuitId', 'resultId'])\n",
    "y = df5[target_variable]\n",
    "\n",
    "# Drop rows with missing values\n",
    "X.dropna(inplace=True)\n",
    "y = y[X.index]  # Align y with X after dropping rows"
   ]
  },
  {
   "cell_type": "code",
   "execution_count": 38,
   "id": "efde1a21-7f61-46b9-8bfe-0465edb3aa8d",
   "metadata": {},
   "outputs": [],
   "source": [
    "# Split the data for regression model\n",
    "X_train, X_test, y_train, y_test = train_test_split(X, y, test_size=0.2, random_state=42)\n",
    "\n",
    "# Drop non-numeric columns from X_train and X_test\n",
    "non_numeric_cols = X.select_dtypes(exclude=['int', 'float']).columns\n",
    "X_train = X_train.drop(columns=non_numeric_cols)\n",
    "X_test = X_test.drop(columns=non_numeric_cols)"
   ]
  },
  {
   "cell_type": "code",
   "execution_count": null,
   "id": "8296335f-6c46-4b88-ad53-d067baf061f1",
   "metadata": {},
   "outputs": [],
   "source": [
    "# Train the regression model\n",
    "regression_model = LinearRegression()\n",
    "regression_model.fit(X_train, y_train)"
   ]
  },
  {
   "cell_type": "code",
   "execution_count": null,
   "id": "0c4cb87d-8168-489e-ae4a-1cdf98c32a96",
   "metadata": {},
   "outputs": [],
   "source": [
    "# Make predictions using the regression model\n",
    "regression_predictions = regression_model.predict(X_test)"
   ]
  },
  {
   "cell_type": "code",
   "execution_count": null,
   "id": "fe615adc-dc82-4f0d-93f6-ced739104c11",
   "metadata": {},
   "outputs": [],
   "source": [
    "# Evaluate the regression model using MAE\n",
    "regression_mae = mean_absolute_error(y_test, regression_predictions)\n",
    "print(\"Regression Model Mean Absolute Error (MAE):\", regression_mae)"
   ]
  }
 ],
 "metadata": {
  "kernelspec": {
   "display_name": "Python 3",
   "language": "python",
   "name": "python3"
  },
  "language_info": {
   "codemirror_mode": {
    "name": "ipython",
    "version": 3
   },
   "file_extension": ".py",
   "mimetype": "text/x-python",
   "name": "python",
   "nbconvert_exporter": "python",
   "pygments_lexer": "ipython3",
   "version": "3.8.8"
  }
 },
 "nbformat": 4,
 "nbformat_minor": 5
}
